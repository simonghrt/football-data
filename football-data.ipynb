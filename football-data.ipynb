{
 "cells": [
  {
   "cell_type": "markdown",
   "metadata": {},
   "source": [
    "# Football data"
   ]
  },
  {
   "cell_type": "code",
   "execution_count": 5,
   "metadata": {},
   "outputs": [],
   "source": [
    "import pandas as pd\n",
    "import sqlite3\n",
    "\n",
    "conn = sqlite3.connect(\"database.sqlite\")\n",
    "cur = conn.cursor()"
   ]
  },
  {
   "cell_type": "markdown",
   "metadata": {},
   "source": [
    "### Observation\n",
    "\n",
    "We'll process several queries in order to understand how the data is formatted"
   ]
  },
  {
   "cell_type": "code",
   "execution_count": 71,
   "metadata": {},
   "outputs": [
    {
     "name": "stdout",
     "output_type": "stream",
     "text": [
      "[(145, 1, 1, '2008/2009', 24, '2009-02-28 00:00:00', 493016, 9996, 8635, 1, 1, 1, 2, 4, 6, 8, 2, 4, 6, 8, 4, 6, 1, 2, 4, 6, 8, 2, 4, 6, 8, 4, 6, 1, 3, 3, 3, 3, 7, 7, 7, 7, 10, 10, 1, 3, 3, 3, 3, 7, 7, 7, 7, 10, 10, 39890, None, 38788, 38312, 26235, None, None, None, 26916, None, 94289, 34480, 38388, 26458, 13423, 38389, 38798, 30949, 38253, 106013, 38383, 46552, None, None, None, None, None, None, None, None, 5.75, 3.75, 1.55, 5.5, 3.65, 1.55, 4.8, 3.5, 1.55, 5, 3.5, 1.57, None, None, None, 4.8, 3.4, 1.62, 5.5, 3.5, 1.62, 5, 3.4, 1.6, 5.25, 3.6, 1.6, 5.5, 3.6, 1.53), (146, 1, 1, '2008/2009', 24, '2009-02-27 00:00:00', 493017, 8203, 9987, 2, 1, 1, 2, 4, 6, 8, 2, 4, 6, 8, 4, 6, 1, 2, 4, 6, 8, 2, 4, 6, 8, 4, 6, 1, 3, 3, 3, 3, 7, 7, 7, 7, 10, 10, 1, 3, 3, 3, 3, 7, 7, 7, 7, 10, 10, 38327, 67950, 67958, 67959, 37112, 36393, 148286, 67898, 164352, 38801, 26502, 37937, 38293, 148313, 104411, 148314, 37202, 43158, 9307, 42153, 32690, 38782, None, None, None, None, None, None, None, None, 3, 3.4, 2.3, 2.95, 3.25, 2.2, 2.8, 3.1, 2.2, 2.75, 3.25, 2.2, None, None, None, 2.62, 3.2, 2.3, 3.05, 3.2, 2.3, 2.65, 3.25, 2.35, 2.9, 3.25, 2.3, 2.8, 3.2, 2.25)]\n"
     ]
    }
   ],
   "source": [
    "# Match query\n",
    "cur.execute(\"select * from Match where home_player_1 is not null limit 2;\")\n",
    "results = cur.fetchall()\n",
    "print(results)"
   ]
  },
  {
   "cell_type": "code",
   "execution_count": 72,
   "metadata": {},
   "outputs": [
    {
     "name": "stdout",
     "output_type": "stream",
     "text": [
      "[(1, 505942, 'Aaron Appindangoye', 218353, '1992-02-29 00:00:00', 182.88, 187), (2, 155782, 'Aaron Cresswell', 189615, '1989-12-15 00:00:00', 170.18, 146), (3, 162549, 'Aaron Doran', 186170, '1991-05-13 00:00:00', 170.18, 163), (4, 30572, 'Aaron Galindo', 140161, '1982-05-08 00:00:00', 182.88, 198), (5, 23780, 'Aaron Hughes', 17725, '1979-11-08 00:00:00', 182.88, 154)]\n"
     ]
    }
   ],
   "source": [
    "# Player query\n",
    "cur.execute(\"select * from Player limit 5;\")\n",
    "results = cur.fetchall()\n",
    "print(results)"
   ]
  },
  {
   "cell_type": "code",
   "execution_count": 73,
   "metadata": {},
   "outputs": [
    {
     "name": "stdout",
     "output_type": "stream",
     "text": [
      "[(270, 186561, 75489, '2016-03-10 00:00:00', 82, 85, 'right', 'high', 'high', 75, 75, 58, 83, 79, 81, 70, 70, 80, 82, 69, 69, 77, 82, 75, 81, 65, 92, 69, 75, 74, 69, 83, 81, 75, 62, 74, 68, 6, 11, 5, 10, 8), (271, 186561, 75489, '2016-03-03 00:00:00', 82, 85, 'right', 'high', 'high', 75, 75, 58, 83, 79, 81, 70, 70, 80, 82, 71, 69, 77, 82, 75, 81, 65, 92, 69, 75, 74, 69, 83, 81, 75, 62, 74, 68, 6, 11, 5, 10, 8), (272, 186561, 75489, '2016-02-18 00:00:00', 82, 85, 'right', 'high', 'high', 75, 75, 58, 83, 79, 81, 70, 70, 81, 82, 71, 69, 77, 82, 75, 81, 65, 92, 69, 77, 74, 69, 83, 81, 75, 62, 74, 68, 6, 11, 5, 10, 8), (273, 186561, 75489, '2016-01-28 00:00:00', 82, 85, 'right', 'high', 'high', 75, 75, 58, 83, 79, 81, 70, 70, 81, 82, 71, 69, 77, 82, 75, 81, 65, 92, 69, 77, 74, 69, 83, 81, 75, 62, 74, 68, 6, 11, 5, 10, 8), (274, 186561, 75489, '2015-09-21 00:00:00', 82, 86, 'right', 'high', 'high', 74, 75, 58, 84, 81, 81, 64, 70, 82, 82, 71, 68, 74, 81, 75, 81, 63, 93, 69, 78, 75, 67, 84, 81, 76, 65, 75, 65, 6, 11, 5, 10, 8)]\n"
     ]
    }
   ],
   "source": [
    "# Player attributes query\n",
    "# Player with player_api_id 75489 is Aaron Ramsey\n",
    "cur.execute(\"select * from Player_Attributes where player_api_id = 75489 limit 5;\")\n",
    "results = cur.fetchall()\n",
    "print(results)"
   ]
  },
  {
   "cell_type": "code",
   "execution_count": 74,
   "metadata": {},
   "outputs": [
    {
     "name": "stdout",
     "output_type": "stream",
     "text": [
      "   count(id)\n",
      "0      21374\n"
     ]
    }
   ],
   "source": [
    "# Count number of games with player ids not null\n",
    "query = \"select count(id) from Match where \"\n",
    "for i in range(1, 12):\n",
    "    query += \"home_player_\" + str(i) + \" is not null and \"\n",
    "for i in range(1, 11):\n",
    "    query += \"away_player_\" + str(i) + \" is not null and \"\n",
    "query += \"away_player_11 is not null \"\n",
    "result = pd.read_sql_query(query, conn)\n",
    "print(result)"
   ]
  },
  {
   "cell_type": "markdown",
   "metadata": {},
   "source": [
    "### Data processing\n",
    "\n",
    "We'll make multiple SQL queries in order to get a clean Pandas dataframe"
   ]
  },
  {
   "cell_type": "code",
   "execution_count": 138,
   "metadata": {},
   "outputs": [],
   "source": [
    "NUMBER_MATCHS = 1000\n",
    "\n",
    "def build_query_match(number_matchs):\n",
    "    query = \"select home_team_goal, away_team_goal, date, \"\n",
    "    for i in range(1,12):\n",
    "        query += \"home_player_\" + str(i) + \", \"\n",
    "    for i in range(1, 11):\n",
    "        query += \"away_player_\" + str(i) + \", \"\n",
    "    query += \"away_player_11\"\n",
    "    query += \" from Match where \"\n",
    "    for i in range(1, 12):\n",
    "        query += \"home_player_\" + str(i) + \" is not null and \"\n",
    "    for i in range(1, 11):\n",
    "        query += \"away_player_\" + str(i) + \" is not null and \"\n",
    "    query += \"away_player_11 is not null \"\n",
    "    query += \"limit \" + str(number_matchs) + \";\"\n",
    "    return query\n",
    "\n",
    "query = build_query_match(NUMBER_MATCHS)\n",
    "\n",
    "matchs = pd.read_sql_query(query, conn)"
   ]
  },
  {
   "cell_type": "code",
   "execution_count": 139,
   "metadata": {},
   "outputs": [],
   "source": [
    "def build_query_date(match):\n",
    "    query_date_attr = \"select distinct date from Player_Attributes where (\"\n",
    "    for i in range(1, 12):\n",
    "        query_date_attr += \"player_api_id = \" + str(match['home_player_' + str(i)]) + \" or \"\n",
    "    query_date_attr += \"player_api_id = \" + str(match['home_player_11']) + \")\"\n",
    "    return query_date_attr\n",
    "\n",
    "def get_closest_date(match, dates):\n",
    "    date_format = \"%Y-%m-%d %H:%M:%S\"\n",
    "    match_date = datetime.strptime(str(match['date']), date_format)\n",
    "    closest_date = datetime(2000, 1, 1, 1, 1)\n",
    "    min_diff = timedelta(days = 9999)\n",
    "    for j, attr_d in dates.iterrows():\n",
    "        attr_date = datetime.strptime(str(attr_d['date']), date_format)\n",
    "        diff = abs(match_date - attr_date)\n",
    "        if (diff < min_diff):\n",
    "            closest_date = attr_d['date']\n",
    "            min_diff = diff\n",
    "    return closest_date\n",
    "\n",
    "def build_query_player(match, team):\n",
    "    query_player = \"select height, weight from Player where \"\n",
    "    for i in range(1, 12):\n",
    "        query_player += \"player_api_id = \" + str(match[team + '_player_' + str(i)]) + \" or \"\n",
    "    query_player += \"player_api_id = \" + str(match[team + '_player_11'])\n",
    "    return query_player\n",
    "\n",
    "def build_query_attrs(match, team, closest_date):\n",
    "    query_player_attr = \"select overall_rating, potential, crossing, finishing, preferred_foot, sprint_speed, positioning from Player_Attributes where (\"\n",
    "    for i in range(1, 12):\n",
    "        query_player_attr += \"player_api_id = \" + str(match[team + '_player_' + str(i)]) + \" or \"\n",
    "    query_player_attr += \"player_api_id = \" + str(match[team + '_player_11']) + \")\"\n",
    "    query_player_attr += \" and date = \\\"\" + str(closest_date) + \"\\\"\"\n",
    "    return query_player_attr\n",
    "\n",
    "def get_statistics(match_df, values, keys, team):\n",
    "    for key in keys:\n",
    "        val_avg = values[key].mean()\n",
    "        key_df = team + \"_\" + key\n",
    "        match_df[key_df] = val_avg\n",
    "    return match_df\n",
    "\n",
    "GOAL_DIFFERENCE = 4\n",
    "def goal_difference(match):\n",
    "    difference = match[\"home_team_goal\"] - match[\"away_team_goal\"]\n",
    "    if difference > GOAL_DIFFERENCE:\n",
    "        difference = GOAL_DIFFERENCE\n",
    "    elif difference < -GOAL_DIFFERENCE:\n",
    "        difference = -GOAL_DIFFERENCE\n",
    "    return difference\n",
    "\n",
    "# For the beginning, we'll get only average\n",
    "def get_relevant_statistics(data):\n",
    "    return data.mean()"
   ]
  },
  {
   "cell_type": "code",
   "execution_count": 140,
   "metadata": {},
   "outputs": [
    {
     "name": "stdout",
     "output_type": "stream",
     "text": [
      "   goal_difference  home_overall_rating  home_potential  home_crossing  \\\n",
      "0          0.07525            -0.433612       -0.151656      -0.056705   \n",
      "1         -0.29975            -0.087779       -0.037863       0.108399   \n",
      "2          0.20025             0.239602        0.137014       0.000884   \n",
      "3          0.07525            -0.389862       -0.135564      -0.045247   \n",
      "4         -0.04975            -0.316946       -0.116407      -0.074761   \n",
      "\n",
      "   home_finishing  home_sprint_speed  away_overall_rating  away_potential  \\\n",
      "0       -0.022697           0.026953             0.008433       -0.010754   \n",
      "1        0.158329           0.004225             0.125100        0.151368   \n",
      "2        0.019501           0.016130            -0.393650       -0.121360   \n",
      "3        0.024995           0.021902             0.221975        0.184322   \n",
      "4       -0.064748          -0.026919            -0.391865       -0.188243   \n",
      "\n",
      "   away_crossing  away_finishing  away_sprint_speed  home_height  home_weight  \\\n",
      "0       0.048204        0.073013           0.031043     0.163931     0.130211   \n",
      "1       0.084258        0.169869           0.041796    -0.147180    -0.046660   \n",
      "2      -0.148395       -0.111263          -0.035624     0.163931     0.164224   \n",
      "3      -0.027476        0.053359           0.043812     0.163931     0.191435   \n",
      "4      -0.190377       -0.083770          -0.137928    -0.258291    -0.209925   \n",
      "\n",
      "   away_height  away_weight  \n",
      "0    -0.103364    -0.268607  \n",
      "1     0.133000     0.219918  \n",
      "2    -0.121545    -0.127623  \n",
      "3     0.096636     0.170738  \n",
      "4    -0.085182     0.000246  \n"
     ]
    }
   ],
   "source": [
    "from datetime import datetime, timedelta\n",
    "\n",
    "match_and_players_arr = []\n",
    "\n",
    "# TODO : Make something special for the goalkeeper\n",
    "\n",
    "for index, match in matchs.iterrows():\n",
    "    match_df = pd.DataFrame.from_dict([match])\n",
    "    match_df = match_df[['home_team_goal', 'away_team_goal']]\n",
    "    difference = goal_difference(match)\n",
    "    match_df[\"goal_difference\"] = difference\n",
    "    match_df = match_df.drop(['home_team_goal', 'away_team_goal'], axis=1)\n",
    "    \n",
    "    # Get the dates in the attributes table\n",
    "    query_date = build_query_date(match)\n",
    "    date_attr = pd.read_sql_query(query_date, conn)\n",
    "    \n",
    "    # Find the closest date for attributes\n",
    "    closest_date = get_closest_date(match, date_attr)\n",
    "    \n",
    "    # Get the home players\n",
    "    query_home_player = build_query_player(match, \"home\")\n",
    "    home_players = pd.read_sql_query(query_home_player, conn)\n",
    "    \n",
    "    # Get the away players\n",
    "    query_away_player = build_query_player(match, \"away\")\n",
    "    away_players = pd.read_sql_query(query_away_player, conn)\n",
    "    \n",
    "    # Get the attributes of home players\n",
    "    query_home_player_attr = build_query_attrs(match, \"home\", closest_date)\n",
    "    home_players_attr = pd.read_sql_query(query_home_player_attr, conn)\n",
    "    \n",
    "    # Get the attributes of away players\n",
    "    query_away_player_attr = build_query_attrs(match, \"away\", closest_date)\n",
    "    away_players_attr = pd.read_sql_query(query_away_player_attr, conn)\n",
    "    \n",
    "    # Percentage left_foot\n",
    "    \n",
    "    # Get average of overall_rating, higher, lowest\n",
    "    avg_attrs = ['overall_rating', 'potential', 'crossing', 'finishing', 'sprint_speed']\n",
    "    match_df = get_statistics(match_df, home_players_attr, avg_attrs, \"home\")\n",
    "    match_df = get_statistics(match_df, away_players_attr, avg_attrs, \"away\")\n",
    "    \n",
    "    avg_players = ['height', 'weight']\n",
    "    match_df = get_statistics(match_df, home_players, avg_players, \"home\")\n",
    "    match_df = get_statistics(match_df, away_players, avg_players, \"away\")\n",
    "    \n",
    "    match_and_players_arr.append(match_df)\n",
    "    \n",
    "matchs_data = pd.concat(match_and_players_arr)\n",
    "\n",
    "matchs_data = (matchs_data - matchs_data.mean()) / (matchs_data.max() - matchs_data.min())\n",
    "matchs_data = matchs_data.fillna(0)\n",
    "\n",
    "print(matchs_data.head())\n"
   ]
  },
  {
   "cell_type": "code",
   "execution_count": 146,
   "metadata": {},
   "outputs": [],
   "source": [
    "# We save the dataframe as a csv for a faster load next time\n",
    "matchs_data.to_csv(\"matchs.csv\", index=False)"
   ]
  },
  {
   "cell_type": "code",
   "execution_count": 141,
   "metadata": {},
   "outputs": [],
   "source": [
    "from sklearn.model_selection import train_test_split\n",
    "\n",
    "train, test = train_test_split(matchs_data, test_size=0.2)\n",
    "\n",
    "train_data = train.drop(['goal_difference'], axis=1)\n",
    "train_labels = train['goal_difference']\n",
    "\n",
    "test_data = test.drop(['goal_difference'], axis=1)\n",
    "test_labels = test['goal_difference']"
   ]
  },
  {
   "cell_type": "markdown",
   "metadata": {},
   "source": [
    "### Training\n",
    "\n",
    "For the first try, we'll use a simple model with two layers"
   ]
  },
  {
   "cell_type": "code",
   "execution_count": 142,
   "metadata": {},
   "outputs": [
    {
     "name": "stdout",
     "output_type": "stream",
     "text": [
      "_________________________________________________________________\n",
      "Layer (type)                 Output Shape              Param #   \n",
      "=================================================================\n",
      "dense_12 (Dense)             (None, 64)                960       \n",
      "_________________________________________________________________\n",
      "dense_13 (Dense)             (None, 64)                4160      \n",
      "_________________________________________________________________\n",
      "dense_14 (Dense)             (None, 1)                 65        \n",
      "=================================================================\n",
      "Total params: 5,185\n",
      "Trainable params: 5,185\n",
      "Non-trainable params: 0\n",
      "_________________________________________________________________\n"
     ]
    }
   ],
   "source": [
    "import tensorflow as tf\n",
    "from tensorflow import keras\n",
    "\n",
    "def build_model():\n",
    "  model = keras.Sequential([\n",
    "    keras.layers.Dense(64, activation=tf.nn.relu,\n",
    "                       input_shape=(train_data.shape[1],)),\n",
    "    keras.layers.Dense(64, activation=tf.nn.relu),\n",
    "    keras.layers.Dense(1)\n",
    "  ])\n",
    "\n",
    "  optimizer = tf.train.RMSPropOptimizer(0.001)\n",
    "\n",
    "  model.compile(loss='mse',\n",
    "                optimizer=optimizer,\n",
    "                metrics=['mae'])\n",
    "  return model\n",
    "\n",
    "model = build_model()\n",
    "model.summary()"
   ]
  },
  {
   "cell_type": "code",
   "execution_count": 143,
   "metadata": {},
   "outputs": [
    {
     "name": "stdout",
     "output_type": "stream",
     "text": [
      "Train on 640 samples, validate on 160 samples\n",
      "Epoch 1/20\n",
      "640/640 [==============================] - 0s 729us/step - loss: 0.0441 - mean_absolute_error: 0.1684 - val_loss: 0.0474 - val_mean_absolute_error: 0.1735\n",
      "Epoch 2/20\n",
      "640/640 [==============================] - 0s 90us/step - loss: 0.0439 - mean_absolute_error: 0.1679 - val_loss: 0.0471 - val_mean_absolute_error: 0.1728\n",
      "Epoch 3/20\n",
      "640/640 [==============================] - 0s 87us/step - loss: 0.0435 - mean_absolute_error: 0.1666 - val_loss: 0.0464 - val_mean_absolute_error: 0.1716\n",
      "Epoch 4/20\n",
      "640/640 [==============================] - 0s 145us/step - loss: 0.0427 - mean_absolute_error: 0.1647 - val_loss: 0.0450 - val_mean_absolute_error: 0.1691\n",
      "Epoch 5/20\n",
      "640/640 [==============================] - 0s 102us/step - loss: 0.0411 - mean_absolute_error: 0.1611 - val_loss: 0.0430 - val_mean_absolute_error: 0.1673\n",
      "Epoch 6/20\n",
      "640/640 [==============================] - 0s 107us/step - loss: 0.0395 - mean_absolute_error: 0.1587 - val_loss: 0.0417 - val_mean_absolute_error: 0.1668\n",
      "Epoch 7/20\n",
      "640/640 [==============================] - 0s 109us/step - loss: 0.0386 - mean_absolute_error: 0.1576 - val_loss: 0.0414 - val_mean_absolute_error: 0.1664\n",
      "Epoch 8/20\n",
      "640/640 [==============================] - 0s 113us/step - loss: 0.0380 - mean_absolute_error: 0.1557 - val_loss: 0.0412 - val_mean_absolute_error: 0.1666\n",
      "Epoch 9/20\n",
      "640/640 [==============================] - 0s 91us/step - loss: 0.0374 - mean_absolute_error: 0.1550 - val_loss: 0.0416 - val_mean_absolute_error: 0.1664\n",
      "Epoch 10/20\n",
      "640/640 [==============================] - 0s 110us/step - loss: 0.0369 - mean_absolute_error: 0.1541 - val_loss: 0.0414 - val_mean_absolute_error: 0.1668\n",
      "Epoch 11/20\n",
      "640/640 [==============================] - 0s 104us/step - loss: 0.0362 - mean_absolute_error: 0.1528 - val_loss: 0.0414 - val_mean_absolute_error: 0.1663\n",
      "Epoch 12/20\n",
      "640/640 [==============================] - 0s 111us/step - loss: 0.0360 - mean_absolute_error: 0.1520 - val_loss: 0.0416 - val_mean_absolute_error: 0.1670\n",
      "Epoch 13/20\n",
      "640/640 [==============================] - 0s 88us/step - loss: 0.0356 - mean_absolute_error: 0.1518 - val_loss: 0.0414 - val_mean_absolute_error: 0.1660\n",
      "Epoch 14/20\n",
      "640/640 [==============================] - 0s 100us/step - loss: 0.0350 - mean_absolute_error: 0.1501 - val_loss: 0.0417 - val_mean_absolute_error: 0.1667\n",
      "Epoch 15/20\n",
      "640/640 [==============================] - 0s 122us/step - loss: 0.0348 - mean_absolute_error: 0.1493 - val_loss: 0.0415 - val_mean_absolute_error: 0.1658\n",
      "Epoch 16/20\n",
      "640/640 [==============================] - 0s 105us/step - loss: 0.0344 - mean_absolute_error: 0.1491 - val_loss: 0.0424 - val_mean_absolute_error: 0.1668\n",
      "Epoch 17/20\n",
      "640/640 [==============================] - 0s 90us/step - loss: 0.0341 - mean_absolute_error: 0.1484 - val_loss: 0.0418 - val_mean_absolute_error: 0.1678\n",
      "Epoch 18/20\n",
      "640/640 [==============================] - 0s 97us/step - loss: 0.0334 - mean_absolute_error: 0.1460 - val_loss: 0.0418 - val_mean_absolute_error: 0.1680\n",
      "Epoch 19/20\n",
      "640/640 [==============================] - 0s 108us/step - loss: 0.0330 - mean_absolute_error: 0.1458 - val_loss: 0.0421 - val_mean_absolute_error: 0.1665\n",
      "Epoch 20/20\n",
      "640/640 [==============================] - 0s 99us/step - loss: 0.0330 - mean_absolute_error: 0.1454 - val_loss: 0.0421 - val_mean_absolute_error: 0.1667\n"
     ]
    }
   ],
   "source": [
    "EPOCHS = 20\n",
    "\n",
    "# Store training stats\n",
    "history = model.fit(train_data, train_labels, epochs=EPOCHS,\n",
    "                    validation_split=0.2)"
   ]
  },
  {
   "cell_type": "code",
   "execution_count": 144,
   "metadata": {},
   "outputs": [
    {
     "data": {
      "image/png": "[encoded data removed]",
      "text/plain": [
       "<Figure size 432x288 with 1 Axes>"
      ]
     },
     "metadata": {
      "needs_background": "light"
     },
     "output_type": "display_data"
    }
   ],
   "source": [
    "import matplotlib.pyplot as plt\n",
    "import numpy as np\n",
    "\n",
    "\n",
    "def plot_history(history):\n",
    "  plt.figure()\n",
    "  plt.xlabel('Epoch')\n",
    "  plt.ylabel('Mean Abs Error [1000$]')\n",
    "  plt.plot(history.epoch, np.array(history.history['mean_absolute_error']),\n",
    "           label='Train Loss')\n",
    "  plt.plot(history.epoch, np.array(history.history['val_mean_absolute_error']),\n",
    "           label = 'Val loss')\n",
    "  plt.legend()\n",
    "\n",
    "plot_history(history)"
   ]
  },
  {
   "cell_type": "code",
   "execution_count": null,
   "metadata": {},
   "outputs": [],
   "source": []
  }
 ],
 "metadata": {
  "kernelspec": {
   "display_name": "Python 3",
   "language": "python",
   "name": "python3"
  },
  "language_info": {
   "codemirror_mode": {
    "name": "ipython",
    "version": 3
   },
   "file_extension": ".py",
   "mimetype": "text/x-python",
   "name": "python",
   "nbconvert_exporter": "python",
   "pygments_lexer": "ipython3",
   "version": "3.5.6"
  }
 },
 "nbformat": 4,
 "nbformat_minor": 2
}
